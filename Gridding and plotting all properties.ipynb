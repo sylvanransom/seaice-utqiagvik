{
 "cells": [
  {
   "cell_type": "code",
   "execution_count": 2,
   "metadata": {
    "scrolled": false
   },
   "outputs": [
    {
     "name": "stdout",
     "output_type": "stream",
     "text": [
      "\n",
      "## You are using the Python ARM Radar Toolkit (Py-ART), an open source\n",
      "## library for working with weather radar data. Py-ART is partly\n",
      "## supported by the U.S. Department of Energy as part of the Atmospheric\n",
      "## Radiation Measurement (ARM) Climate Research Facility, an Office of\n",
      "## Science user facility.\n",
      "##\n",
      "## If you use this software to prepare a publication, please cite:\n",
      "##\n",
      "##     JJ Helmus and SM Collis, JORS 2016, doi: 10.5334/jors.119\n",
      "\n"
     ]
    },
    {
     "name": "stderr",
     "output_type": "stream",
     "text": [
      "/home/sransom/pyart/pyart/graph/cm.py:104: FutureWarning: elementwise comparison failed; returning scalar instead, but in the future will perform elementwise comparison\n",
      "  if 'red' in spec:\n",
      "/home/sransom/pyart/pyart/graph/cm_colorblind.py:32: FutureWarning: elementwise comparison failed; returning scalar instead, but in the future will perform elementwise comparison\n",
      "  if 'red' in spec:\n"
     ]
    },
    {
     "name": "stdout",
     "output_type": "stream",
     "text": [
      "Populating the interactive namespace from numpy and matplotlib\n"
     ]
    },
    {
     "name": "stderr",
     "output_type": "stream",
     "text": [
      "/home/sransom/.conda/envs/clouds_env/lib/python3.6/site-packages/IPython/core/magics/pylab.py:160: UserWarning: pylab import has clobbered these variables: ['plt']\n",
      "`%matplotlib` prevents importing * from pylab and numpy\n",
      "  \"\\n`%matplotlib` prevents importing * from pylab and numpy\"\n"
     ]
    }
   ],
   "source": [
    "#Load some packages to be used in this program\n",
    "import matplotlib as plt\n",
    "import scipy  as sp\n",
    "import numpy  as np\n",
    "import xarray as xr\n",
    "import pyart  as pyart\n",
    "import os\n",
    "import glob\n",
    "import cartopy.io.shapereader as shpreader\n",
    "import cartopy.crs as ccrs\n",
    "import cartopy as cartopy\n",
    "%pylab inline\n",
    "import cartopy.io.shapereader as shpreader\n",
    "import netCDF4 as netCDF4\n",
    "import pytz\n",
    "import imageio\n",
    "from PIL import Image\n",
    "import moviepy.editor as mp\n",
    "import time\n",
    "\n",
    "from matplotlib.animation import FuncAnimation\n",
    "#import matplotlib.animation as animation\n",
    "\n",
    "import gc"
   ]
  },
  {
   "cell_type": "code",
   "execution_count": 3,
   "metadata": {},
   "outputs": [],
   "source": [
    "#load sample data file and extract some universal properties of the data for future usage\n",
    "radar = pyart.io.read('/nfs/gce/projects/digr/xsapr_nsa/BRW190120002403.RAWTA32.maint')\n",
    "rlon = -radar.longitude['data'][0]\n",
    "rlat = radar.latitude['data'][0]\n",
    "keys = radar.fields.keys()\n",
    "coastlines = cartopy.feature.NaturalEarthFeature(\n",
    "    category='physical', name='coastline',\n",
    "    scale='10m', facecolor='grey')\n",
    "projection = ccrs.Mercator(central_longitude=rlon,\n",
    "                           min_latitude=rlat-5.,\n",
    "                           max_latitude=rlat+5.)"
   ]
  },
  {
   "cell_type": "code",
   "execution_count": 4,
   "metadata": {},
   "outputs": [],
   "source": [
    "#Get that gatefilter goin yall\n",
    "def gatefilter(radar):\n",
    "    gatefilter = pyart.filters.GateFilter(radar)\n",
    "    gatefilter.exclude_above('total_power', 40)\n",
    "    gatefilter.exclude_below('total_power', 10)\n",
    "    #gatefilter.exclude_above('reflectivity', 20)\n",
    "    #gatefilter.exclude_below('reflectivity', 0)\n",
    "    #gatefilter.exclude_above('velocity',  2)\n",
    "    #gatefilter.exclude_below('velocity', -2)\n",
    "    return gatefilter"
   ]
  },
  {
   "cell_type": "code",
   "execution_count": 5,
   "metadata": {},
   "outputs": [],
   "source": [
    "# Read all files of\n",
    "#jan_20_evening = glob.glob('/nfs/gce/projects/digr/xsapr_nsa/BRW1901202*')\n",
    "#filestart = 12\n",
    "jan_20_evening = glob.glob('/nfs/gce/projects/digr/xsapr_nsa/*')\n",
    "#jan_20_evening = jan_20_evening[0:10]\n",
    "jan_20_length = len(jan_20_evening)\n",
    "jan_20_evening.sort()"
   ]
  },
  {
   "cell_type": "code",
   "execution_count": 6,
   "metadata": {},
   "outputs": [],
   "source": [
    "#make a mask to cover up ice-like radar signatures produced by the pipeline\n",
    "#upload b&w image of the land/sea pattern\n",
    "utqiagvik_land = imageio.imread('/home/sransom/pyth/utqiagvik mask.png')[:,:,0]/255\n",
    "stationary_ice = imageio.imread('/home/sransom/pyth/stationary mask.png')[:,:,0]/255\n",
    "#define a function to create a mask based on this png\n",
    "def automask(im):\n",
    "    width =  np.shape(im)[1]        # get image size\n",
    "    height =  np.shape(im)[0]\n",
    "    mask = np.full((height,width), True) # create array of trues from which to rm land points\n",
    "    tran = im[0,0]   # transparent top-left\n",
    "    for y in range(height):\n",
    "        for x in range(width):\n",
    "            if im[y,x] == tran:\n",
    "                mask[y,x] = False  # mask on the point if it is ocean\n",
    "    return mask[-1::-1,::]\n",
    "#Make a mask out of the uploaded png\n",
    "landmask = automask(utqiagvik_land)\n",
    "stationarymask = automask(stationary_ice)\n",
    "\n",
    "#Make a function to apply the landmask produced above\n",
    "def rm_feature(feature,gridded_radar):\n",
    "    totalpower = gridded_radar.fields['total_power']['data']\n",
    "    reflectvty = gridded_radar.fields['reflectivity']['data']\n",
    "    for a in range(totalpower.shape[0]):\n",
    "        gridded_radar.fields['reflectivity']['data'][a]=np.ma.masked_where(feature,reflectvty[a,:,:])\n",
    "        gridded_radar.fields['total_power']['data'][a] =np.ma.masked_where(feature,totalpower[a,:,:])\n",
    "        \n",
    "    return gridded_radar\n"
   ]
  },
  {
   "cell_type": "code",
   "execution_count": 7,
   "metadata": {},
   "outputs": [],
   "source": [
    "#grid each radar file and make a file for the grid\n",
    "\n",
    "resolution = 401 #Define how many pixels wide and long the graphs should be\n",
    "def produce_grid(item):\n",
    "    print('loading radar...')\n",
    "    radar = pyart.io.read(item)\n",
    "    print('radar loading complete \\ncreating grid...')\n",
    "    gf = gatefilter(radar)\n",
    "    totalpower = radar.fields['total_power']['data']\n",
    "    radar.fields['reflectivity']['data'] = np.ma.masked_where(gf.gate_excluded, totalpower)\n",
    "    radar.fields['total_power']['data']  = np.ma.masked_where(gf.gate_excluded, totalpower)\n",
    "    grid = pyart.map.grid_from_radars([radar],\n",
    "                                          (16,resolution,resolution), ((0,15000),(-20000, 20000), (-20000, 20000)),#(-lat_extent, lat_extent), (-lon_extent,lon_extent)),\n",
    "                                          fields = ['reflectivity', 'total_power'], weighting_function = 'Nearest',\n",
    "                                          gatefilters = [gf],\n",
    "                                          min_roi = 250.0,\n",
    "                                          gridding_algo='map_gates_to_grid')\n",
    "    #Now apply the land mask to these grids\n",
    "    #grid = rm_feature(landmask, grid)\n",
    "    grid = rm_feature(stationarymask, grid) #actually just apply mask of area which isn't moving since non-moving parts are less prominent on radar\n",
    "\n",
    "    del radar\n",
    "    return grid\n",
    "\n",
    "\n",
    "    #except RuntimeError:\n",
    "    #    print(grid_path + 'is bad')\n",
    "    #    print('Failed item\\'s number ')\n",
    "        #continue\n",
    "\n",
    "    "
   ]
  },
  {
   "cell_type": "code",
   "execution_count": null,
   "metadata": {
    "scrolled": true
   },
   "outputs": [],
   "source": [
    "progress = 0 # filestart\n",
    "start_time = time.time()\n",
    "for item in jan_20_evening:\n",
    "    #write grid:\n",
    "    grid = produce_grid(item)\n",
    "    print('writing grid')\n",
    "    \n",
    "    grid_path = '/home/sransom/pyth/EG_Utqiagvik_gridded/sans_ice/grids/' + item[33:48] + '.nc'\n",
    "    #try:\n",
    "    grid.write(grid_path)\n",
    "    progress += 1\n",
    "    #print('gridded file '+ str(progress)+ ', which is item ' + str(progress-filestart) + ' of ' + str(jan_20_length))\n",
    "    print('gridded file '+ str(progress) + ' of ' + str(jan_20_length) + ' (' + str(progress/jan_20_length*100)[0:4] + '% done)' )\n",
    "    \n",
    "    #if progress-filestart != jan_20_length:\n",
    "    #    print('restarting gridding progress')\n",
    "    \n",
    "    #Calculate percentage done\n",
    "    elapsed = time.time() - start_time\n",
    "    timeperfile = elapsed/progress\n",
    "    timeleft = (len(jan_20_evening)-progress)*timeperfile\n",
    "    print('Estimated time remaining: ' + str(timeleft/60) + ' minutes')\n",
    "    \n",
    "\n",
    "    del grid\n",
    "    \n",
    "print('done')\n",
    "    #radurr = pyart.io.read_grid(grid_path)"
   ]
  },
  {
   "cell_type": "code",
   "execution_count": 8,
   "metadata": {},
   "outputs": [],
   "source": [
    "#Define function to add fields to the empty target xarray\n",
    "def xrmake(target, radarc, time,field):\n",
    "    if target != xr.Dataset():\n",
    "        raise ValueError('git gud m9, target input must be an empty xarray, try target = xr.Dataset() instead')\n",
    "    lon, lat = radarc.get_point_longitude_latitude()\n",
    "    height = radarc.point_z['data'][:,0,0]\n",
    "    time = np.array([ netCDF4.num2date(radarc.time['data'][0], radarc.time['units'])])\n",
    "    this_data = radarc.fields[field]['data']\n",
    "    this_data = np.ma.filled(this_data, np.nan)\n",
    "    my_data = xr.DataArray(np.expand_dims(this_data,0),\n",
    "                  dims = ('time', 'z', 'y', 'x'),\n",
    "                  coords = {'time' : (['time'], time),\n",
    "                            'z' : (['z'], height),\n",
    "                            'lat' :(['y','x'], lat),\n",
    "                            'lon' : (['y','x'],lon),\n",
    "                             'y' : (['y'],lat[:,0]),\n",
    "                             'x' : (['x'],lon[0,:])})\n",
    "    \n",
    "    if field is not 'data':\n",
    "        my_data.attrs.update({field: radarc.fields[field]})\n",
    "    target[field] = my_data\n",
    "    target.lon.attrs = [('long_name', 'longitude of grid cell center'), ('units', 'degrees_east')]\n",
    "    target.lat.attrs = [('long_name', 'latitude of grid cell center'),  ('units', 'degrees_north')]\n",
    "    target.z.attrs['long_name'] = field\n",
    "    target.z.attrs['units'] = radarc.fields[field]['units']\n",
    "    target.z.encoding['_FillValue'] = -9999.0\n",
    "    target.lat.encoding['_FillValue'] = -9999.0\n",
    "    target.lon.encoding['_FillValue'] = -9999.0\n",
    "    return target\n"
   ]
  },
  {
   "cell_type": "code",
   "execution_count": 9,
   "metadata": {},
   "outputs": [],
   "source": [
    "def generate_grid_time_begin(grid):\n",
    "    \"\"\" Return time begin in datetime instance. \"\"\"\n",
    "    times = grid.time['data'][0]\n",
    "    units = grid.time['units']\n",
    "    if 'calendar' in grid.time:\n",
    "        calendar = grid.time['calendar']\n",
    "    else:\n",
    "        calendar = 'standard'\n",
    "    return num2date(times, units, calendar)\n"
   ]
  },
  {
   "cell_type": "code",
   "execution_count": 10,
   "metadata": {
    "scrolled": true
   },
   "outputs": [],
   "source": [
    "# Write a function to generate a title based for a given frame\n",
    "def title_make(inputt):\n",
    "    #Get the date at the start of collection\n",
    "    #index_at_start = inputt.sweep_start_ray_index['data'][0]\n",
    "    if 'calendar' in inputt.time:\n",
    "        calendar = inputt.time['calendar']\n",
    "    else:\n",
    "        calendar = 'standard'\n",
    "    time_at_start_of_radar = pyart.io.cfradial.netCDF4.num2date(inputt.time['data'][0], \n",
    "                                      inputt.time['units'], calendar)\n",
    "    \n",
    "    #make a nice time stamp\n",
    "    pacific = pytz.timezone('US/Alaska')\n",
    "    local_time = pacific.fromutc(time_at_start_of_radar)\n",
    "    fancy_date_string = local_time.strftime('%A %B %d at %I:%M %p %Z')\n",
    "    print('fancy date string: ' + fancy_date_string)\n",
    "\n",
    "    #Give it a nice title\n",
    "    title = 'X-SAPR Utqiagvik \\n' + fancy_date_string\n",
    "    \n",
    "    return title\n",
    "\n"
   ]
  },
  {
   "cell_type": "code",
   "execution_count": 11,
   "metadata": {},
   "outputs": [],
   "source": [
    "gridfiles = glob.glob('/home/sransom/pyth/EG_Utqiagvik_gridded/sans_ice/grids/*')[0:jan_20_length]\n",
    "gridfiles.sort()"
   ]
  },
  {
   "cell_type": "code",
   "execution_count": 12,
   "metadata": {},
   "outputs": [],
   "source": [
    "#Define animation function\n",
    "def animate(nframe, field, minv, maxv):\n",
    "    plt.clf()\n",
    "    nfile = gridfiles[nframe]\n",
    "    radarc = pyart.io.read_grid(nfile)\n",
    "    print('frame ' + str(nframe) + ' of ' + str(len(gridfiles)) + ' animated')\n",
    "     \n",
    "    #radarc = rm_feature(stationarymask, radarc)\n",
    "    #radarc = rm_feature(landmask, radarc)\n",
    "    title = title_make(radarc)\n",
    "    \n",
    "    radar = xr.Dataset() #define an empty xr in which to put data\n",
    "    ds = xrmake(radar, radarc, time, field) #add each field to the xr made above\n",
    "    projection = ccrs.PlateCarree()\n",
    "    my_ax = plt.subplot(projection=projection)\n",
    "\n",
    "    pc = ds[field][0].sel(z=10, method='nearest').plot.pcolormesh(\n",
    "        ax=my_ax,\n",
    "        x='lon', y='lat',\n",
    "        vmin=minv, vmax=maxv,\n",
    "        cmap=pyart.graph.cm_colorblind.HomeyerRainbow)\n",
    "\n",
    "    #Set lat an lon lines and aspect ratios\n",
    "    lat_lines = np.arange(np.around(ds.lat.min(), decimals=1), ds.lat.max(), .05)\n",
    "    lon_lines = np.arange(np.around(ds.lon.min(),decimals=1), ds.lon.max(), .2)\n",
    "#    my_ax.set_xticks(lon_lines, crs = projection)\n",
    "#    my_ax.set_yticks(lat_lines, crs = projection)\n",
    "\n",
    "    # Make it not stretchy\n",
    "    my_ax.set_aspect(aspect = 2)\n",
    "\n",
    "    # Change labels\n",
    "#    my_ax.set_xlabel(\"Longitude ($^\\circ$)\")\n",
    "#    my_ax.set_ylabel(\"Latitude ($^\\circ$)\")\n",
    "#    my_ax.set_title(field + '\\n' + title)\n",
    "\n",
    "    # Crop all this\n",
    "    my_ax.set_xlim(-157.0, -156.2)\n",
    "    my_ax.set_ylim(71.2, 71.5)\n",
    "    \n",
    "    bbox_inches='tight'\n",
    "\n",
    "    #Add coastline\n",
    "    #my_ax.add_feature(coastlines, linestyle='-', edgecolor='k', linewidth=1)"
   ]
  },
  {
   "cell_type": "code",
   "execution_count": null,
   "metadata": {
    "scrolled": true
   },
   "outputs": [],
   "source": [
    "#Animate it and save it\n",
    "vmin_ = (-30, -30, -15,  0, -1, -1, 0, 0, -10)\n",
    "vmax_ = ( 50,  30,  15,  5,  8,  1, 1, 1, 160)\n",
    "\n",
    "vmin_ = ( 0,  0)\n",
    "vmax_ = (35, 35)\n",
    "\n",
    "propnum = 0\n",
    "\n",
    "keys = ['total_power', 'reflectivity']\n",
    "field = 'reflectivity'\n",
    "\n",
    "fig = plt.figure(figsize=(12, 8))\n",
    "vmin = vmin_[propnum]\n",
    "vmax = vmax_[propnum]\n",
    "propnum = propnum + 1\n",
    "anim_klot = FuncAnimation(fig, animate, fargs = (field, vmin, vmax), frames=len(gridfiles))\n",
    "#anim_klot.save('/home/sransom/pyth/EG_Utqiagvik_gridded/' + field +'_sans_ice.gif', writer = 'imagemagick', fps=2)\n",
    "anim_klot.save('/home/sransom/pyth/EG_Utqiagvik_gridded/sans_ice/' + field + '.gif', writer = 'imagemagick', fps=2)\n",
    "print('                                                                   ' + str(field) + ' gif written')\n",
    "plt.close()"
   ]
  },
  {
   "cell_type": "code",
   "execution_count": null,
   "metadata": {},
   "outputs": [],
   "source": []
  },
  {
   "cell_type": "code",
   "execution_count": null,
   "metadata": {},
   "outputs": [],
   "source": []
  },
  {
   "cell_type": "code",
   "execution_count": 13,
   "metadata": {},
   "outputs": [
    {
     "ename": "ValueError",
     "evalue": "yeeet",
     "output_type": "error",
     "traceback": [
      "\u001b[0;31m---------------------------------------------------------------------------\u001b[0m",
      "\u001b[0;31mValueError\u001b[0m                                Traceback (most recent call last)",
      "\u001b[0;32m<ipython-input-13-2b25da8f6eb0>\u001b[0m in \u001b[0;36m<module>\u001b[0;34m\u001b[0m\n\u001b[0;32m----> 1\u001b[0;31m \u001b[0;32mraise\u001b[0m \u001b[0mValueError\u001b[0m\u001b[0;34m(\u001b[0m\u001b[0;34m'yeeet'\u001b[0m\u001b[0;34m)\u001b[0m\u001b[0;34m\u001b[0m\u001b[0;34m\u001b[0m\u001b[0m\n\u001b[0m",
      "\u001b[0;31mValueError\u001b[0m: yeeet"
     ]
    }
   ],
   "source": [
    "raise ValueError('yeeet')"
   ]
  },
  {
   "cell_type": "code",
   "execution_count": null,
   "metadata": {},
   "outputs": [],
   "source": []
  },
  {
   "cell_type": "code",
   "execution_count": 21,
   "metadata": {
    "scrolled": true
   },
   "outputs": [
    {
     "name": "stdout",
     "output_type": "stream",
     "text": [
      "radar loading complete \n",
      "creating grid...\n"
     ]
    }
   ],
   "source": [
    "resolution = 401\n",
    "radar = pyart.io.read(jan_20_evening[2])\n",
    "print('radar loading complete \\ncreating grid...')\n",
    "gf = gatefilter(radar)\n",
    "totalpower = radar.fields['total_power']['data']\n",
    "#radar.fields['reflectivity']['data'] = np.ma.masked_where(gf.gate_excluded, totalpower)\n",
    "radar.fields['total_power']['data']  = np.ma.masked_where(gf.gate_excluded, totalpower)\n",
    "mygrid = pyart.map.grid_from_radars([radar],\n",
    "                                      (16,resolution,resolution), ((0,15000),(-20000, 20000), (-20000, 20000)),#(-lat_extent, lat_extent), (-lon_extent,lon_extent)),\n",
    "                                      fields = ['reflectivity', 'total_power'], weighting_function = 'Nearest',\n",
    "                                      gatefilters = [gf],\n",
    "                                      min_roi = 250.0,\n",
    "                                      gridding_algo='map_gates_to_grid')"
   ]
  },
  {
   "cell_type": "code",
   "execution_count": 22,
   "metadata": {},
   "outputs": [
    {
     "data": {
      "image/png": "[encoded data removed]",
      "text/plain": [
       "<Figure size 432x288 with 1 Axes>"
      ]
     },
     "metadata": {
      "needs_background": "light"
     },
     "output_type": "display_data"
    }
   ],
   "source": [
    "#make hist of powerspectrum sans land\n",
    "egdata = np.ma.getdata(mygrid.fields['total_power']['data'])\n",
    "egdata = egdata.ravel()\n",
    "egdata = egdata[~np.isnan(egdata)]\n",
    "\n",
    "plt.hist(egdata, bins= np.linspace(10,40,31), rwidth = .9, density = True)\n",
    "plt.xlabel('Equivalent reflectivity factor (dBZ)')\n",
    "plt.ylabel('Percentage of data in range')\n",
    "plt.suptitle('PDF of reflectivity values including land values')\n",
    "plt.savefig('/home/sransom/pyth/papergraphics/power_spectrum_with_land.png', bbox_inches = 'tight')"
   ]
  },
  {
   "cell_type": "code",
   "execution_count": null,
   "metadata": {},
   "outputs": [],
   "source": []
  },
  {
   "cell_type": "code",
   "execution_count": null,
   "metadata": {},
   "outputs": [],
   "source": []
  },
  {
   "cell_type": "code",
   "execution_count": null,
   "metadata": {},
   "outputs": [],
   "source": [
    "resolution = 401\n",
    "radar = pyart.io.read(jan_20_evening[2])\n",
    "print('radar loading complete \\ncreating grid...')\n",
    "eggrid = pyart.map.grid_from_radars([radar],\n",
    "                                      (16,resolution,resolution), ((0,15000),(-20000, 20000), (-20000, 20000)),#(-lat_extent, lat_extent), (-lon_extent,lon_extent)),\n",
    "                                      fields = ['reflectivity', 'total_power'], weighting_function = 'Nearest',\n",
    "                                      min_roi = 250.0,\n",
    "                                      gridding_algo='map_gates_to_grid')"
   ]
  },
  {
   "cell_type": "code",
   "execution_count": 1,
   "metadata": {},
   "outputs": [
    {
     "ename": "NameError",
     "evalue": "name 'np' is not defined",
     "output_type": "error",
     "traceback": [
      "\u001b[0;31m---------------------------------------------------------------------------\u001b[0m",
      "\u001b[0;31mNameError\u001b[0m                                 Traceback (most recent call last)",
      "\u001b[0;32m<ipython-input-1-11579e3ae63b>\u001b[0m in \u001b[0;36m<module>\u001b[0;34m\u001b[0m\n\u001b[1;32m      1\u001b[0m \u001b[0;31m#make hist of powerspectrum sans land\u001b[0m\u001b[0;34m\u001b[0m\u001b[0;34m\u001b[0m\u001b[0;34m\u001b[0m\u001b[0m\n\u001b[0;32m----> 2\u001b[0;31m \u001b[0megdata\u001b[0m \u001b[0;34m=\u001b[0m \u001b[0mnp\u001b[0m\u001b[0;34m.\u001b[0m\u001b[0mma\u001b[0m\u001b[0;34m.\u001b[0m\u001b[0mgetdata\u001b[0m\u001b[0;34m(\u001b[0m\u001b[0meggrid\u001b[0m\u001b[0;34m.\u001b[0m\u001b[0mfields\u001b[0m\u001b[0;34m[\u001b[0m\u001b[0;34m'total_power'\u001b[0m\u001b[0;34m]\u001b[0m\u001b[0;34m[\u001b[0m\u001b[0;34m'data'\u001b[0m\u001b[0;34m]\u001b[0m\u001b[0;34m)\u001b[0m\u001b[0;34m\u001b[0m\u001b[0;34m\u001b[0m\u001b[0m\n\u001b[0m\u001b[1;32m      3\u001b[0m \u001b[0megdata\u001b[0m \u001b[0;34m=\u001b[0m \u001b[0megdata\u001b[0m\u001b[0;34m.\u001b[0m\u001b[0mravel\u001b[0m\u001b[0;34m(\u001b[0m\u001b[0;34m)\u001b[0m\u001b[0;34m\u001b[0m\u001b[0;34m\u001b[0m\u001b[0m\n\u001b[1;32m      4\u001b[0m \u001b[0megdata\u001b[0m \u001b[0;34m=\u001b[0m \u001b[0megdata\u001b[0m\u001b[0;34m[\u001b[0m\u001b[0;34m~\u001b[0m\u001b[0mnp\u001b[0m\u001b[0;34m.\u001b[0m\u001b[0misnan\u001b[0m\u001b[0;34m(\u001b[0m\u001b[0megdata\u001b[0m\u001b[0;34m)\u001b[0m\u001b[0;34m]\u001b[0m\u001b[0;34m\u001b[0m\u001b[0;34m\u001b[0m\u001b[0m\n\u001b[1;32m      5\u001b[0m \u001b[0megdata\u001b[0m \u001b[0;34m=\u001b[0m \u001b[0megdata\u001b[0m\u001b[0;34m[\u001b[0m\u001b[0megdata\u001b[0m \u001b[0;34m!=\u001b[0m \u001b[0;36m0\u001b[0m\u001b[0;34m]\u001b[0m\u001b[0;34m\u001b[0m\u001b[0;34m\u001b[0m\u001b[0m\n",
      "\u001b[0;31mNameError\u001b[0m: name 'np' is not defined"
     ]
    }
   ],
   "source": [
    "#make hist of powerspectrum sans land\n",
    "egdata = np.ma.getdata(eggrid.fields['total_power']['data'])\n",
    "egdata = egdata.ravel()\n",
    "egdata = egdata[~np.isnan(egdata)]\n",
    "egdata = egdata[egdata != 0]\n",
    "\n",
    "plt.hist(egdata, bins= np.linspace(-21,40), rwidth = .9, density = True)\n",
    "plt.xlabel('Equivalent reflectivity factor (dBZ)')\n",
    "plt.ylabel('Percentage of data in range')\n",
    "plt.suptitle('PDF of reflectivity values including land values')\n",
    "#plt.savefig('/home/sransom/pyth/papergraphics/power_spectrum_with_land.png', bbox_inches = 'tight')"
   ]
  },
  {
   "cell_type": "code",
   "execution_count": null,
   "metadata": {},
   "outputs": [],
   "source": []
  },
  {
   "cell_type": "code",
   "execution_count": null,
   "metadata": {},
   "outputs": [],
   "source": []
  },
  {
   "cell_type": "code",
   "execution_count": null,
   "metadata": {},
   "outputs": [],
   "source": [
    "#make hist of power spectrum\n",
    "resolution = 401\n",
    "radar = pyart.io.read(jan_20_evening[2])\n",
    "eggrid = pyart.map.grid_from_radars([radar],\n",
    "                                      (16,resolution,resolution), ((0,15000),(-20000, 20000), (-20000, 20000)),#(-lat_extent, lat_extent), (-lon_extent,lon_extent)),\n",
    "                                      fields = ['reflectivity', 'total_power'],\n",
    "                                      weighting_function = 'Nearest',\n",
    "                                      #gatefilters = [gf],\n",
    "                                      min_roi = 250.0,\n",
    "                                      gridding_algo='map_gates_to_grid'\n",
    "                                      )\n",
    "egdata  = np.ma.getdata(eggrid.fields['reflectivity']['data'])\n",
    "egdata = egdata.ravel()\n",
    "egdata = egdata[~np.isnan(egdata)]\n",
    "\n",
    "plt.hist(egdata, bins= np.linspace(-21,40,61), rwidth = .9, density = True)\n",
    "plt.xlabel('Equivalent reflectivity factor (dBZ)')\n",
    "plt.ylabel('Percentage of data in range')\n",
    "plt.suptitle('PDF of reflectivity values including land values')\n",
    "#plt.savefig('/home/sransom/pyth/papergraphics/power_spectrum_sans_mask.png', bbox_inches = 'tight')"
   ]
  },
  {
   "cell_type": "code",
   "execution_count": null,
   "metadata": {},
   "outputs": [],
   "source": [
    "np.shape(egdata)"
   ]
  },
  {
   "cell_type": "code",
   "execution_count": null,
   "metadata": {},
   "outputs": [],
   "source": []
  },
  {
   "cell_type": "code",
   "execution_count": null,
   "metadata": {},
   "outputs": [],
   "source": []
  },
  {
   "cell_type": "code",
   "execution_count": null,
   "metadata": {},
   "outputs": [],
   "source": []
  },
  {
   "cell_type": "code",
   "execution_count": null,
   "metadata": {},
   "outputs": [],
   "source": []
  },
  {
   "cell_type": "code",
   "execution_count": null,
   "metadata": {},
   "outputs": [],
   "source": []
  },
  {
   "cell_type": "code",
   "execution_count": null,
   "metadata": {},
   "outputs": [],
   "source": [
    "#create grids of differences between days\n",
    "field = 'reflectivity'\n",
    "radar1 = pyart.io.read_grid(gridfiles[0])\n",
    "data1 = data2 = np.zeros((401,401,16))\n",
    "def diff_make(radar1, radar2):\n",
    "    #combine mask of radar2's data and radar1's data to make new mask\n",
    "    bothmask = np.logical_or(radar2.fields[field]['mask'] , radar1.fields[field]['mask'])\n",
    "    data1[:,:,:] = radar1.fields[field]['data']\n",
    "    data1[data1==-9999.] = 0\n",
    "    data2[:,:,:] = radar2.fields[field]['data']\n",
    "    data2[data2==-9999.] = 0\n",
    "    #data1 = np.ma.masked_where(mask1,np.ma.getdata(radar1))\n",
    "    #data2 = np.ma.masked_where(mask2,np.ma.getdata(radar2))\n",
    "    #data1[mask1==True] = 0\n",
    "    #data2[mask2==True] = 0\n",
    "    #subtract masked data sets\n",
    "    diff = np.absolute(data2-data1)\n",
    "    #convert field corresponding with reflectivity's data to diff of radar2's field's data and radar1's field' data\n",
    "    #make radar2 into radar1 to be used in next iteration\n",
    "    return diff, bothmask"
   ]
  },
  {
   "cell_type": "code",
   "execution_count": null,
   "metadata": {},
   "outputs": [],
   "source": [
    "field = 'reflectivity'\n",
    "radar1 = pyart.io.read_grid(gridfiles[4])\n",
    "radar2 = pyart.io.read_grid(gridfiles[5])\n",
    "data1 = data2 = np.zeros((16,401,401))\n",
    "data1[:,:,:] = radar1.fields[field]['data']\n",
    "radar1.fields[field]['data'][data1==-9999.] = 0\n",
    "data2[:,:,:] = radar2.fields[field]['data']\n",
    "radar2.fields[field]['data'][data2==-9999.] = 0\n",
    "diff = data2-data1\n",
    "plt.pcolormesh(sp.sum(diff,axis=0))\n"
   ]
  },
  {
   "cell_type": "code",
   "execution_count": null,
   "metadata": {},
   "outputs": [],
   "source": [
    "b = radar2.fields['reflectivity']['data'] - radar1.fields['reflectivity']['data']\n",
    "plt.pcolormesh(sp.sum(b, axis=0))"
   ]
  },
  {
   "cell_type": "code",
   "execution_count": null,
   "metadata": {},
   "outputs": [],
   "source": [
    "diff = data1 - data2\n",
    "diff_masked = np.ma.masked_array(diff, mask = diff == 0)\n",
    "diff_masked = np.ma.compressed(diff_masked)\n",
    "plt.pcolormesh(sp.sum(diff_masked, axis=0))"
   ]
  },
  {
   "cell_type": "code",
   "execution_count": null,
   "metadata": {},
   "outputs": [],
   "source": [
    "yeet = np.ma.masked_array(radar1.fields['reflectivity']['data'],\n",
    "                          mask = radar1.fields['reflectivity']['data'] == -9999.)\n",
    "woke = np.ma.masked_array(radar2.fields['reflectivity']['data'],\n",
    "                          mask = radar2.fields['reflectivity']['data'] == -9999.)\n",
    "\n",
    "diff = yeet - woke\n",
    "print(diff)"
   ]
  },
  {
   "cell_type": "code",
   "execution_count": null,
   "metadata": {},
   "outputs": [],
   "source": [
    "plt.pcolormesh(sp.mean(radar1.fields[field]['data'],axis=0))"
   ]
  },
  {
   "cell_type": "code",
   "execution_count": null,
   "metadata": {},
   "outputs": [],
   "source": [
    "radar1 = pyart.io.read_grid(gridfiles[0])\n",
    "egradar = radar1 #create duplicate of next radar file to convert into diff file\n",
    "\n",
    "for a in range(0,len(gridfiles)-1):\n",
    "    radar2 = pyart.io.read_grid(gridfiles[a]) #load next radar file\n",
    "    diff, bothmask = diff_make(radar1,radar2)\n",
    "    egradar.fields[field]['data'] = np.ma.masked_array(diff,bothmask)\n",
    "    #egradar.fields[field]['data'] = diff\n",
    "    #egradar.fields[field]['mask'] = bothmask\n",
    "    egradar.write('/home/sransom/pyth/EG_Utqiagvik_gridded/diff_animation/diffs/' + gridfiles[a][46:-3] + '.nc')\n",
    "    #make radar2 into radar1 to be used in next iteration\n",
    "    radar1 = radar2\n",
    "    print('diff ' + str(a) + ' printed')"
   ]
  },
  {
   "cell_type": "code",
   "execution_count": null,
   "metadata": {
    "scrolled": true
   },
   "outputs": [],
   "source": [
    "#Animate it and save it\n",
    "vmin_ = (-30, -30, -15,  0, -1, -1, 0, 0, -10)\n",
    "vmax_ = ( 50,  30,  15,  5,  8,  1, 1, 1, 160)\n",
    "\n",
    "vmin_ = (-10,  0)\n",
    "vmax_ = ( 10, 35)\n",
    "\n",
    "propnum = 0\n",
    "\n",
    "keys = ['total_power', 'reflectivity']\n",
    "keys = 'reflectivity'\n",
    "\n",
    "\n",
    "for field in keys:\n",
    "    fig = plt.figure(figsize=(12, 8))\n",
    "    vmin = vmin_[propnum]\n",
    "    vmax = vmax_[propnum]\n",
    "    propnum = propnum + 1\n",
    "    anim_klot = FuncAnimation(fig, animate, fargs = (field, vmin, vmax), frames=len(gridfiles))\n",
    "    #anim_klot.save('/home/sransom/pyth/EG_Utqiagvik_gridded/' + field +'_sans_ice.gif', writer = 'imagemagick', fps=2)\n",
    "    anim_klot.save('/home/sransom/pyth/EG_Utqiagvik_gridded/diff_animation/' + field + '.gif', writer = 'imagemagick', fps=2)\n",
    "    print('                                                                   ' + str(field) + ' gif written')\n",
    "    plt.close()"
   ]
  },
  {
   "cell_type": "code",
   "execution_count": null,
   "metadata": {},
   "outputs": [],
   "source": []
  },
  {
   "cell_type": "code",
   "execution_count": null,
   "metadata": {},
   "outputs": [],
   "source": []
  },
  {
   "cell_type": "code",
   "execution_count": null,
   "metadata": {},
   "outputs": [],
   "source": []
  },
  {
   "cell_type": "code",
   "execution_count": null,
   "metadata": {},
   "outputs": [],
   "source": []
  },
  {
   "cell_type": "code",
   "execution_count": null,
   "metadata": {},
   "outputs": [],
   "source": [
    "raise ValueError('stop')"
   ]
  },
  {
   "cell_type": "code",
   "execution_count": null,
   "metadata": {},
   "outputs": [],
   "source": []
  },
  {
   "cell_type": "code",
   "execution_count": null,
   "metadata": {},
   "outputs": [],
   "source": []
  },
  {
   "cell_type": "code",
   "execution_count": null,
   "metadata": {},
   "outputs": [],
   "source": []
  },
  {
   "cell_type": "code",
   "execution_count": null,
   "metadata": {},
   "outputs": [],
   "source": []
  },
  {
   "cell_type": "code",
   "execution_count": null,
   "metadata": {},
   "outputs": [],
   "source": []
  },
  {
   "cell_type": "code",
   "execution_count": null,
   "metadata": {},
   "outputs": [],
   "source": [
    "files = glob.glob('/home/sransom/pyth/EG_Utqiagvik_gridded/sans_ice/grids/*')[0:jan_20_length]\n",
    "files.sort()"
   ]
  },
  {
   "cell_type": "code",
   "execution_count": null,
   "metadata": {},
   "outputs": [],
   "source": [
    "#create file of all data for detecting which things aren't moving\n",
    "all_data = np.zeros((401,401,len(files)*16))\n",
    "for a in range(0,20):\n",
    "    grid = pyart.io.read_grid(gridfiles[a])\n",
    "    data = grid.fields['total_power']['data']\n",
    "    for b in range(0,15):\n",
    "        all_data[:,:,16*a + b] = data[b,:,:]\n",
    "    print('yeet ' + str(a) + ' of 20')\n",
    "\n",
    "#Replace mask fill values with something the computer can work with\n",
    "all_data[all_data == -9999.] = 1\n",
    "\n",
    "\n",
    "deviation = sp.std(all_data, axis = 2,ddof = 0)\n",
    "#remove data that never changes (the already masked data), as well as data with larger stds (stationary ice)\n",
    "deviation[deviation == 0] = np.nan\n",
    "#stationary_mask = deviation > .1\n",
    "#del deviation\n",
    "#del all_data\n",
    "\n",
    "#deviation = np.ma.masked_where(landmask,deviation)\n",
    "\n",
    "#Make mask of data which is changing consistently\n",
    "#automask(deviation)"
   ]
  },
  {
   "cell_type": "code",
   "execution_count": null,
   "metadata": {},
   "outputs": [],
   "source": [
    "plt.pcolormesh(deviation)"
   ]
  },
  {
   "cell_type": "code",
   "execution_count": null,
   "metadata": {
    "scrolled": false
   },
   "outputs": [],
   "source": [
    "plt.hist(np.hstack(deviation[~np.isnan(deviation)]), bins = 30)\n",
    "plt.grid(axis = 'y', alpha = .75)\n",
    "plt.show()\n",
    "plt.close()"
   ]
  },
  {
   "cell_type": "code",
   "execution_count": null,
   "metadata": {},
   "outputs": [],
   "source": [
    "## Make animation without the stationary ice"
   ]
  },
  {
   "cell_type": "code",
   "execution_count": null,
   "metadata": {},
   "outputs": [],
   "source": [
    "#Make mask of ice\n",
    "utqiagvik_ice = imageio.imread('/home/sransom/pyth/stationary mask.png')[:,:,0]/255\n",
    "icebank_mask = automask(utqiagvik_ice)"
   ]
  },
  {
   "cell_type": "code",
   "execution_count": null,
   "metadata": {},
   "outputs": [],
   "source": [
    "#Animate it and save it\n",
    "vmin_ = (-30, -30, -15,  0, -1, -1, 0, 0, -10)\n",
    "vmax_ = ( 50,  30,  15,  5,  8,  1, 1, 1, 160)\n",
    "\n",
    "vmin_ = ( 0,  0)\n",
    "vmax_ = (35, 35)\n",
    "\n",
    "propnum = 0\n",
    "\n",
    "keys = ['total_power', 'reflectivity']\n",
    "\n",
    "for field in keys:\n",
    "    fig = plt.figure(figsize=(12, 8))\n",
    "    vmin = vmin_[propnum]\n",
    "    vmax = vmax_[propnum]\n",
    "    propnum = propnum + 1\n",
    "    anim_klot = FuncAnimation(fig, animate2, fargs = (field, vmin, vmax), frames=21)\n",
    "    anim_klot.save('/home/sransom/pyth/EG_Utqiagvik_gridded/sans_ice/' + field +'.gif', writer = 'imagemagick', fps=2)\n",
    "    print('fig ' + str(propnum) + ' printed')\n",
    "    plt.close()"
   ]
  },
  {
   "cell_type": "code",
   "execution_count": null,
   "metadata": {
    "scrolled": true
   },
   "outputs": [],
   "source": [
    "stationary_mask = (deviation-2709) #& (deviation <= .4)\n",
    "qwer = plt.pcolormesh(stationary_mask)"
   ]
  },
  {
   "cell_type": "code",
   "execution_count": null,
   "metadata": {
    "scrolled": true
   },
   "outputs": [],
   "source": [
    "stationary_mask = (deviation >=642) #& (deviation <= .4)\n",
    "qwer = plt.pcolormesh(stationary_mask)"
   ]
  },
  {
   "cell_type": "code",
   "execution_count": null,
   "metadata": {},
   "outputs": [],
   "source": [
    "radarc = pyart.io.read_grid(files[0]) \n",
    "title = title_make(radarc)\n",
    "\n",
    "radar = xr.Dataset() #define an empty xr in which to put data\n",
    "\n",
    "ds = xrmake(radar, radarc, time, 'reflectivity') #add each field to the xr\n",
    "\n",
    "fig = plt.figure(figsize=(12, 8))\n",
    "projection = ccrs.PlateCarree()\n",
    "my_ax = plt.axes(projection = projection)\n",
    "pc = ds['reflectivity'][0].sel(z=10, method='nearest').plot.pcolormesh(\n",
    "        ax=my_ax,\n",
    "        x='lon', y='lat',\n",
    "        #vmin=0, vmax=70, \n",
    "        cmap=pyart.graph.cm_colorblind.HomeyerRainbow)\n",
    "#Set lat an lon lines and aspect ratios\n",
    "lat_lines = np.arange(np.around(ds.lat.min(), decimals=1), ds.lat.max(), .05)\n",
    "lon_lines = np.arange(np.around(ds.lon.min(),decimals=1), ds.lon.max(), .2)\n",
    "my_ax.set_xticks(lon_lines, crs = projection)\n",
    "my_ax.set_yticks(lat_lines, crs = projection)\n",
    "\n",
    "# Make it not stretchy\n",
    "my_ax.set_aspect(aspect = 2)\n",
    "\n",
    "# Change labels\n",
    "my_ax.set_xlabel(\"Longitude ($^\\circ$)\")\n",
    "my_ax.set_ylabel(\"Latitude ($^\\circ$)\")\n",
    "my_ax.set_title(field + '\\n' + title)\n",
    "\n",
    "# Crop all this\n",
    "my_ax.set_xlim(-157.0, -156.2)\n",
    "my_ax.set_ylim(71.2, 71.5)\n",
    "\n",
    "#Add coastline\n",
    "#my_ax.coastlines()\n",
    "my_ax.add_feature(coastlines, linestyle='-', edgecolor='k', linewidth=1)"
   ]
  },
  {
   "cell_type": "code",
   "execution_count": null,
   "metadata": {},
   "outputs": [],
   "source": [
    "#now make all the cartesian data into xarrays\n",
    "\n",
    "ds = []\n",
    "jan_20_gridded = glob.glob('/home/sransom/pyth/EG_Utqiagvik_gridded/grids/*')\n",
    "for item in jan_20_gridded: #loop through grids\n",
    "    print('reading grid data')\n",
    "    radarc = pyart.io.read_grid(item) #read the grid data\n",
    "    radar = xr.Dataset() #define an empty xr in which to put data\n",
    "    itemcount = itemcount + 1\n",
    "    for field in keys:\n",
    "        xrmake(radar, radarc,time,field) #add each field to the xr\n",
    "    path = '/home/sransom/pyth/EG_Utqiagvik_gridded/xarrays/' + item[46:61] + '.nc'\n",
    "\n",
    "    ds.append(radar)\n",
    "    \n",
    "    del radar\n",
    "\n",
    "\n",
    "\n",
    "\n",
    "#for field in radurr.fields.keys():\n",
    "#    xrmake(field, time)\n",
    "#print(\"ds:\")\n",
    "#print(ds)"
   ]
  },
  {
   "cell_type": "code",
   "execution_count": null,
   "metadata": {},
   "outputs": [],
   "source": [
    "radar = pyart.io.read('/nfs/gce/projects/digr/xsapr_nsa/BRW190120000004.RAWTA30.maint')\n"
   ]
  },
  {
   "cell_type": "code",
   "execution_count": null,
   "metadata": {},
   "outputs": [],
   "source": [
    "radar.nrays"
   ]
  },
  {
   "cell_type": "code",
   "execution_count": null,
   "metadata": {},
   "outputs": [],
   "source": [
    "# gf = gatefilter(radar)\n",
    "gatefilter = pyart.filters.GateFilter(radar)\n",
    "gatefilter.exclude_above('total_power', 40)\n",
    "gatefilter.exclude_below('total_power', 10)\n",
    "\n",
    "totalpower = radar.fields['total_power']['data']\n",
    "radar.fields['reflectivity']['data'] = np.ma.masked_where(gatefilter.gate_excluded, totalpower)\n",
    "radar.fields['total_power']['data']  = np.ma.masked_where(gatefilter.gate_excluded, totalpower)\n",
    "\n",
    "grid = pyart.map.grid_from_radars(\n",
    "    radar, (16,resolution,resolution), ((0,15000),(-20000, 20000), (-20000, 20000)),#(-lat_extent, lat_extent), (-lon_extent,lon_extent)),\n",
    "    fields = ['reflectivity', 'total_power'], weighting_function = 'Barnes2',\n",
    "    gridding_algo='map_gates_to_grid',  h_factor=0., nb=0.6, bsp=1., min_roi=250.0)\n",
    "    #gatefilters=None, min_roi = 250.0)\n",
    "grid.write('/home/sransom/test.nc')"
   ]
  },
  {
   "cell_type": "code",
   "execution_count": null,
   "metadata": {},
   "outputs": [],
   "source": [
    "radar = pyart.io.read_grid('/home/sransom/test.nc')"
   ]
  },
  {
   "cell_type": "code",
   "execution_count": null,
   "metadata": {},
   "outputs": [],
   "source": [
    "fig = plt.figure(figsize=[12,8])\n",
    "display = pyart.graph.GridMapDisplay(radar)\n",
    "display.plot_grid('total_power', projection=cartopy.crs.PlateCarree(), vmin=0, vmax=35)"
   ]
  },
  {
   "cell_type": "code",
   "execution_count": null,
   "metadata": {},
   "outputs": [],
   "source": [
    "data = grid.fields['total_power']['data'][0]\n",
    "lons, lats = grid.get_point_longitude_latitude()\n",
    "\n",
    "#plt.pcolormesh(lons, lats, data, vmin=0, vmax=35)\n",
    "fig = plt.figure(figsize=[12,8])\n",
    "plt.imshow(data, vmin=0, vmax=35)"
   ]
  },
  {
   "cell_type": "code",
   "execution_count": null,
   "metadata": {},
   "outputs": [],
   "source": [
    "radar = pyart.io.read_grid('/home/sransom/pyth/EG_Utqiagvik_gridded/grids/BRW190120023603.nc')"
   ]
  },
  {
   "cell_type": "code",
   "execution_count": null,
   "metadata": {},
   "outputs": [],
   "source": [
    "display = pyart.graph.GridMapDisplay(radar)"
   ]
  },
  {
   "cell_type": "code",
   "execution_count": null,
   "metadata": {
    "scrolled": true
   },
   "outputs": [],
   "source": [
    "fig = plt.figure(figsize=[12,8])\n",
    "import cartopy\n",
    "display.plot_grid('total_power', projection=cartopy.crs.PlateCarree(),\n",
    "                  vmin=0, vmax=35)"
   ]
  },
  {
   "cell_type": "code",
   "execution_count": null,
   "metadata": {},
   "outputs": [],
   "source": [
    "fig = plt.figure(figsize=[12,8])\n",
    "display.plot_grid('reflectivity', projection=cartopy.crs.PlateCarree(),\n",
    "                  vmin=0, vmax=35)"
   ]
  },
  {
   "cell_type": "code",
   "execution_count": null,
   "metadata": {},
   "outputs": [],
   "source": []
  }
 ],
 "metadata": {
  "kernelspec": {
   "display_name": "Python 3",
   "language": "python",
   "name": "python3"
  },
  "language_info": {
   "codemirror_mode": {
    "name": "ipython",
    "version": 3
   },
   "file_extension": ".py",
   "mimetype": "text/x-python",
   "name": "python",
   "nbconvert_exporter": "python",
   "pygments_lexer": "ipython3",
   "version": "3.6.7"
  }
 },
 "nbformat": 4,
 "nbformat_minor": 2
}
